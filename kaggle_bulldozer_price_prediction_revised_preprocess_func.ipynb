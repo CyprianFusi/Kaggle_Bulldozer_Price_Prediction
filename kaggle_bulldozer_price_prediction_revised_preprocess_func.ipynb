{
 "cells": [
  {
   "cell_type": "markdown",
   "id": "999efbc0-f65d-4bed-aa44-3b8a8218b386",
   "metadata": {},
   "source": [
    "# 🚂Predicting the Sale Price of Bulldozers using Machine Learning\n",
    "\n",
    "## The Goal or Problem Description\n",
    "* **\"Predict the auction sale price for a piece of heavy equipment to create a \"blue book\" for bulldozers\".**\n",
    "\n",
    "The goal is to try and obtain **a better RMSLE** compared to the best score obtained at in the **Kaggle Competition**.\n",
    "\n",
    "## Dataset\n",
    "For Dataset Description see **Kaggle's** [Blue Book for Bulldozers](https://www.kaggle.com/c/bluebook-for-bulldozers/data). The data for this competition is split into three parts:\n",
    "\n",
    "* **Train.csv** is the training set, which contains data through the end of 2011.\n",
    "* **Valid.csv** is the validation set, which contains data from January 1, 2012 - April 30, 2012 You make predictions on this set throughout the majority of the competition. Your score on this set is used to create the public leaderboard.\n",
    "* **Test.csv** is the test set, which won't be released until the last week of the competition. It contains data from May 1, 2012 - November 2012. Your score on the test set determines your final rank for the competition\n",
    "\n",
    "## Evaluation\n",
    "\"The evaluation metric for this competition is the **RMSLE (root mean squared log error)** between the actual and predicted auction prices.\" See [Evaluation](https://www.kaggle.com/c/bluebook-for-bulldozers/overview) on Kaggle.\n",
    "\n",
    "## Features\n",
    "The key fields in **train.csv** are:\n",
    "\n",
    "* **SalesID**: the uniue identifier of the sale\n",
    "* **MachineID**: the unique identifier of a machine.  A machine can be sold multiple times\n",
    "* **saleprice**: what the machine sold for at auction (only provided in train.csv)\n",
    "* **saledate**: the date of the sale.\n",
    "\n",
    "See also provide a [Data Dictionary](view-source:https://www.kaggle.com/c/bluebook-for-bulldozers/data?select=Data+Dictionary.xlsx) with all columns' descriptions in the dataset."
   ]
  },
  {
   "cell_type": "code",
   "execution_count": 1,
   "id": "9080dbe2-c5e3-4a63-9ecd-dd5b16c5f614",
   "metadata": {},
   "outputs": [],
   "source": [
    "import numpy as np\n",
    "import pandas as pd\n",
    "import seaborn as sns\n",
    "from scipy.stats import zscore\n",
    "from sklearn.metrics import mean_squared_log_error, mean_absolute_error, r2_score\n",
    "from sklearn.ensemble import RandomForestRegressor\n",
    "from sklearn.model_selection import train_test_split\n",
    "from sklearn.svm import SVR, LinearSVR \n",
    "from sklearn.decomposition import PCA, TruncatedSVD\n",
    "from regression_evaluation_metrics import rmsle, regression_scores_from_model\n",
    "#from regression_evaluation_metrics import feature_names_sorted\n",
    "from regression_evaluation_metrics import plot_feature_importance\n",
    "import joblib\n",
    "import matplotlib.pyplot as plt\n",
    "\n",
    "import warnings\n",
    "warnings.filterwarnings('ignore')\n",
    "\n",
    "%matplotlib inline"
   ]
  },
  {
   "cell_type": "markdown",
   "id": "c60ff8f8-94f0-417a-a869-c972403f850d",
   "metadata": {},
   "source": [
    "## Data Exploration\n",
    "**See Notebook `end_to_end_bulldozer_price_prediction.ipynb` for data exploration**."
   ]
  },
  {
   "cell_type": "markdown",
   "id": "962a3dc1-4fa2-4154-ad0c-f26e9a2e4fa3",
   "metadata": {},
   "source": [
    "### Converting Categorical columns into Numeric using `pd.Categorical`\n",
    "`pd.Categorical(values).codes` converts missing values or `NaN` into `-1`. Adding 1 to the result will convert missing values to `0`.\n",
    "We are adding columns to **keep information about missing values**."
   ]
  },
  {
   "cell_type": "markdown",
   "id": "d749721a-9d99-4265-bc71-19ab18e1fced",
   "metadata": {},
   "source": [
    "### Helper function to preprocess datasets"
   ]
  },
  {
   "cell_type": "code",
   "execution_count": 27,
   "id": "8abb7b9a",
   "metadata": {},
   "outputs": [],
   "source": [
    "feature_names_sorted = ['Backhoe_Mounting', 'Backhoe_Mounting_is_missing', 'Blade_Extension',\n",
    "                        'Blade_Extension_is_missing', 'Blade_Type', 'Blade_Type_is_missing',\n",
    "                        'Blade_Width', 'Blade_Width_is_missing', 'Coupler', 'Coupler_System',\n",
    "                        'Coupler_System_is_missing', 'Coupler_is_missing','Differential_Type',\n",
    "                        'Differential_Type_is_missing', 'Drive_System', 'Drive_System_is_missing',\n",
    "                        'Enclosure', 'Enclosure_Type', 'Enclosure_Type_is_missing', 'Enclosure_is_missing',\n",
    "                        'Engine_Horsepower', 'Engine_Horsepower_is_missing', 'Forks', 'Forks_is_missing',\n",
    "                        'Grouser_Tracks', 'Grouser_Tracks_is_missing', 'Grouser_Type', 'Grouser_Type_is_missing',\n",
    "                        'Hydraulics', 'Hydraulics_Flow', 'Hydraulics_Flow_is_missing', 'Hydraulics_is_missing',\n",
    "                        'MachineHoursCurrentMeter', 'MachineHoursCurrentMeter_is_missing', 'MachineID',\n",
    "                        'MachineID_is_missing', 'ModelID', 'ModelID_is_missing', 'Pad_Type',\n",
    "                        'Pad_Type_is_missing', 'Pattern_Changer', 'Pattern_Changer_is_missing', 'ProductGroup',\n",
    "                        'ProductGroupDesc', 'ProductGroupDesc_is_missing', 'ProductGroup_is_missing', \n",
    "                        'ProductSize', 'ProductSize_is_missing', 'Pushblock', 'Pushblock_is_missing',\n",
    "                        'Ride_Control', 'Ride_Control_is_missing','Ripper', 'Ripper_is_missing',\n",
    "                        'SalePrice_is_missing', 'SalesID', 'SalesID_is_missing', 'Scarifier', \n",
    "                        'Scarifier_is_missing', 'Steering_Controls', 'Steering_Controls_is_missing', 'Stick',\n",
    "                        'Stick_Length', 'Stick_Length_is_missing', 'Stick_is_missing', 'Thumb',\n",
    "                        'Thumb_is_missing', 'Tip_Control', 'Tip_Control_is_missing', 'Tire_Size',\n",
    "                        'Tire_Size_is_missing', 'Track_Type', 'Track_Type_is_missing', 'Transmission',\n",
    "                        'Transmission_is_missing', 'Travel_Controls', 'Travel_Controls_is_missing',\n",
    "                        'Turbocharged', 'Turbocharged_is_missing', 'Undercarriage_Pad_Width',\n",
    "                        'Undercarriage_Pad_Width_is_missing', 'UsageBand', 'UsageBand_is_missing',\n",
    "                        'YearMade', 'YearMade_is_missing', 'auctioneerID', 'auctioneerID_is_missing',\n",
    "                        'datasource', 'datasource_is_missing', 'fiBaseModel', 'fiBaseModel_is_missing',\n",
    "                        'fiModelDesc', 'fiModelDesc_is_missing', 'fiModelDescriptor',\n",
    "                        'fiModelDescriptor_is_missing', 'fiModelSeries', 'fiModelSeries_is_missing',\n",
    "                        'fiProductClassDesc', 'fiProductClassDesc_is_missing', 'fiSecondaryDesc',\n",
    "                        'fiSecondaryDesc_is_missing', 'saleDay', 'saleDayOfWeek', 'saleDayOfYear',\n",
    "                        'saleMonth', 'saleYear', 'saledate_is_missing','state', 'state_is_missing']"
   ]
  },
  {
   "cell_type": "code",
   "execution_count": 41,
   "id": "2be69a95-0798-48a2-9964-3bb10ed7bbad",
   "metadata": {},
   "outputs": [],
   "source": [
    "def preprocess_data(data_df):\n",
    "    df = data_df.copy()\n",
    " \n",
    "    # Handling numerical columns\n",
    "    for col in list(df.select_dtypes(exclude = ['object'])):\n",
    "        df[col + '_is_missing'] = df[col].isnull().astype(int)\n",
    "        df[col] = df[col].fillna(df[col].median())\n",
    "        \n",
    "    # Handling categorical columns\n",
    "    for col in list(df.select_dtypes(exclude = ['number', 'datetime64'])):\n",
    "        df[col + '_is_missing'] = df[col].isnull().astype(int)\n",
    "        df[col] = pd.Categorical(df[col]).codes + 1\n",
    "\n",
    "    df['saleYear'] = df.saledate.dt.year\n",
    "    df['saleMonth'] = df.saledate.dt.month\n",
    "    df['saleDay'] = df.saledate.dt.day\n",
    "    df['saleDayOfWeek'] = df.saledate.dt.dayofweek\n",
    "    df['saleDayOfYear'] = df.saledate.dt.dayofyear\n",
    "    df.drop('saledate', axis = 1, inplace = True)\n",
    "    \n",
    "    missing_cols = set(feature_names_sorted) - set(list(df))\n",
    "    if len(missing_cols) > 0:\n",
    "        for col in missing_cols:\n",
    "            df[col] =  [0] * len(df)\n",
    "        new_col_names = list(df)\n",
    "        new_col_names.sort()\n",
    "        df = df.loc[:, new_col_names] \n",
    "    else:\n",
    "        new_col_names = list(df)\n",
    "        new_col_names.sort()\n",
    "        df = df.loc[:, new_col_names]   \n",
    "    return df"
   ]
  },
  {
   "cell_type": "markdown",
   "id": "e3d62fa6-9253-42c6-b2be-975fcc86faf1",
   "metadata": {},
   "source": [
    "## Load Training data "
   ]
  },
  {
   "cell_type": "code",
   "execution_count": 42,
   "id": "36edf317-e649-4090-b8ab-a9b69eb0fd5b",
   "metadata": {},
   "outputs": [],
   "source": [
    "train_data = pd.read_csv('../resources/data/bulldozers/Train.csv', parse_dates = ['saledate'], low_memory = False)"
   ]
  },
  {
   "cell_type": "code",
   "execution_count": 43,
   "id": "00a89f15-6b03-43e9-a733-233369c4a607",
   "metadata": {},
   "outputs": [
    {
     "data": {
      "text/html": [
       "<div>\n",
       "<style scoped>\n",
       "    .dataframe tbody tr th:only-of-type {\n",
       "        vertical-align: middle;\n",
       "    }\n",
       "\n",
       "    .dataframe tbody tr th {\n",
       "        vertical-align: top;\n",
       "    }\n",
       "\n",
       "    .dataframe thead th {\n",
       "        text-align: right;\n",
       "    }\n",
       "</style>\n",
       "<table border=\"1\" class=\"dataframe\">\n",
       "  <thead>\n",
       "    <tr style=\"text-align: right;\">\n",
       "      <th></th>\n",
       "      <th>SalesID</th>\n",
       "      <th>SalePrice</th>\n",
       "      <th>MachineID</th>\n",
       "      <th>ModelID</th>\n",
       "      <th>datasource</th>\n",
       "      <th>auctioneerID</th>\n",
       "      <th>YearMade</th>\n",
       "      <th>MachineHoursCurrentMeter</th>\n",
       "      <th>UsageBand</th>\n",
       "      <th>saledate</th>\n",
       "      <th>...</th>\n",
       "      <th>Undercarriage_Pad_Width</th>\n",
       "      <th>Stick_Length</th>\n",
       "      <th>Thumb</th>\n",
       "      <th>Pattern_Changer</th>\n",
       "      <th>Grouser_Type</th>\n",
       "      <th>Backhoe_Mounting</th>\n",
       "      <th>Blade_Type</th>\n",
       "      <th>Travel_Controls</th>\n",
       "      <th>Differential_Type</th>\n",
       "      <th>Steering_Controls</th>\n",
       "    </tr>\n",
       "  </thead>\n",
       "  <tbody>\n",
       "    <tr>\n",
       "      <th>0</th>\n",
       "      <td>1139246</td>\n",
       "      <td>66000</td>\n",
       "      <td>999089</td>\n",
       "      <td>3157</td>\n",
       "      <td>121</td>\n",
       "      <td>3.0</td>\n",
       "      <td>2004</td>\n",
       "      <td>68.0</td>\n",
       "      <td>Low</td>\n",
       "      <td>2006-11-16</td>\n",
       "      <td>...</td>\n",
       "      <td>NaN</td>\n",
       "      <td>NaN</td>\n",
       "      <td>NaN</td>\n",
       "      <td>NaN</td>\n",
       "      <td>NaN</td>\n",
       "      <td>NaN</td>\n",
       "      <td>NaN</td>\n",
       "      <td>NaN</td>\n",
       "      <td>Standard</td>\n",
       "      <td>Conventional</td>\n",
       "    </tr>\n",
       "    <tr>\n",
       "      <th>1</th>\n",
       "      <td>1139248</td>\n",
       "      <td>57000</td>\n",
       "      <td>117657</td>\n",
       "      <td>77</td>\n",
       "      <td>121</td>\n",
       "      <td>3.0</td>\n",
       "      <td>1996</td>\n",
       "      <td>4640.0</td>\n",
       "      <td>Low</td>\n",
       "      <td>2004-03-26</td>\n",
       "      <td>...</td>\n",
       "      <td>NaN</td>\n",
       "      <td>NaN</td>\n",
       "      <td>NaN</td>\n",
       "      <td>NaN</td>\n",
       "      <td>NaN</td>\n",
       "      <td>NaN</td>\n",
       "      <td>NaN</td>\n",
       "      <td>NaN</td>\n",
       "      <td>Standard</td>\n",
       "      <td>Conventional</td>\n",
       "    </tr>\n",
       "    <tr>\n",
       "      <th>2</th>\n",
       "      <td>1139249</td>\n",
       "      <td>10000</td>\n",
       "      <td>434808</td>\n",
       "      <td>7009</td>\n",
       "      <td>121</td>\n",
       "      <td>3.0</td>\n",
       "      <td>2001</td>\n",
       "      <td>2838.0</td>\n",
       "      <td>High</td>\n",
       "      <td>2004-02-26</td>\n",
       "      <td>...</td>\n",
       "      <td>NaN</td>\n",
       "      <td>NaN</td>\n",
       "      <td>NaN</td>\n",
       "      <td>NaN</td>\n",
       "      <td>NaN</td>\n",
       "      <td>NaN</td>\n",
       "      <td>NaN</td>\n",
       "      <td>NaN</td>\n",
       "      <td>NaN</td>\n",
       "      <td>NaN</td>\n",
       "    </tr>\n",
       "    <tr>\n",
       "      <th>3</th>\n",
       "      <td>1139251</td>\n",
       "      <td>38500</td>\n",
       "      <td>1026470</td>\n",
       "      <td>332</td>\n",
       "      <td>121</td>\n",
       "      <td>3.0</td>\n",
       "      <td>2001</td>\n",
       "      <td>3486.0</td>\n",
       "      <td>High</td>\n",
       "      <td>2011-05-19</td>\n",
       "      <td>...</td>\n",
       "      <td>NaN</td>\n",
       "      <td>NaN</td>\n",
       "      <td>NaN</td>\n",
       "      <td>NaN</td>\n",
       "      <td>NaN</td>\n",
       "      <td>NaN</td>\n",
       "      <td>NaN</td>\n",
       "      <td>NaN</td>\n",
       "      <td>NaN</td>\n",
       "      <td>NaN</td>\n",
       "    </tr>\n",
       "    <tr>\n",
       "      <th>4</th>\n",
       "      <td>1139253</td>\n",
       "      <td>11000</td>\n",
       "      <td>1057373</td>\n",
       "      <td>17311</td>\n",
       "      <td>121</td>\n",
       "      <td>3.0</td>\n",
       "      <td>2007</td>\n",
       "      <td>722.0</td>\n",
       "      <td>Medium</td>\n",
       "      <td>2009-07-23</td>\n",
       "      <td>...</td>\n",
       "      <td>NaN</td>\n",
       "      <td>NaN</td>\n",
       "      <td>NaN</td>\n",
       "      <td>NaN</td>\n",
       "      <td>NaN</td>\n",
       "      <td>NaN</td>\n",
       "      <td>NaN</td>\n",
       "      <td>NaN</td>\n",
       "      <td>NaN</td>\n",
       "      <td>NaN</td>\n",
       "    </tr>\n",
       "  </tbody>\n",
       "</table>\n",
       "<p>5 rows × 53 columns</p>\n",
       "</div>"
      ],
      "text/plain": [
       "   SalesID  SalePrice  MachineID  ModelID  datasource  auctioneerID  YearMade  \\\n",
       "0  1139246      66000     999089     3157         121           3.0      2004   \n",
       "1  1139248      57000     117657       77         121           3.0      1996   \n",
       "2  1139249      10000     434808     7009         121           3.0      2001   \n",
       "3  1139251      38500    1026470      332         121           3.0      2001   \n",
       "4  1139253      11000    1057373    17311         121           3.0      2007   \n",
       "\n",
       "   MachineHoursCurrentMeter UsageBand   saledate  ... Undercarriage_Pad_Width  \\\n",
       "0                      68.0       Low 2006-11-16  ...                     NaN   \n",
       "1                    4640.0       Low 2004-03-26  ...                     NaN   \n",
       "2                    2838.0      High 2004-02-26  ...                     NaN   \n",
       "3                    3486.0      High 2011-05-19  ...                     NaN   \n",
       "4                     722.0    Medium 2009-07-23  ...                     NaN   \n",
       "\n",
       "  Stick_Length Thumb Pattern_Changer Grouser_Type Backhoe_Mounting Blade_Type  \\\n",
       "0          NaN   NaN             NaN          NaN              NaN        NaN   \n",
       "1          NaN   NaN             NaN          NaN              NaN        NaN   \n",
       "2          NaN   NaN             NaN          NaN              NaN        NaN   \n",
       "3          NaN   NaN             NaN          NaN              NaN        NaN   \n",
       "4          NaN   NaN             NaN          NaN              NaN        NaN   \n",
       "\n",
       "  Travel_Controls Differential_Type Steering_Controls  \n",
       "0             NaN          Standard      Conventional  \n",
       "1             NaN          Standard      Conventional  \n",
       "2             NaN               NaN               NaN  \n",
       "3             NaN               NaN               NaN  \n",
       "4             NaN               NaN               NaN  \n",
       "\n",
       "[5 rows x 53 columns]"
      ]
     },
     "execution_count": 43,
     "metadata": {},
     "output_type": "execute_result"
    }
   ],
   "source": [
    "train_data.head()"
   ]
  },
  {
   "cell_type": "markdown",
   "id": "4ec0e82f-f9da-44b1-863f-6731dd2d5185",
   "metadata": {},
   "source": [
    "### Preprocess Training data "
   ]
  },
  {
   "cell_type": "code",
   "execution_count": 44,
   "id": "1655f7bf-18f7-4fe4-b997-528eae2552d8",
   "metadata": {},
   "outputs": [
    {
     "name": "stdout",
     "output_type": "stream",
     "text": [
      "CPU times: total: 3.06 s\n",
      "Wall time: 3.71 s\n"
     ]
    }
   ],
   "source": [
    "%%time\n",
    "train_df = preprocess_data(train_data)"
   ]
  },
  {
   "cell_type": "code",
   "execution_count": 45,
   "id": "7d46eb1a-a59d-40cc-ae85-fe9b4fc3a2d8",
   "metadata": {},
   "outputs": [
    {
     "name": "stdout",
     "output_type": "stream",
     "text": [
      "(401125, 53) (401125, 110)\n"
     ]
    },
    {
     "data": {
      "text/html": [
       "<div>\n",
       "<style scoped>\n",
       "    .dataframe tbody tr th:only-of-type {\n",
       "        vertical-align: middle;\n",
       "    }\n",
       "\n",
       "    .dataframe tbody tr th {\n",
       "        vertical-align: top;\n",
       "    }\n",
       "\n",
       "    .dataframe thead th {\n",
       "        text-align: right;\n",
       "    }\n",
       "</style>\n",
       "<table border=\"1\" class=\"dataframe\">\n",
       "  <thead>\n",
       "    <tr style=\"text-align: right;\">\n",
       "      <th></th>\n",
       "      <th>Backhoe_Mounting</th>\n",
       "      <th>Backhoe_Mounting_is_missing</th>\n",
       "      <th>Blade_Extension</th>\n",
       "      <th>Blade_Extension_is_missing</th>\n",
       "      <th>Blade_Type</th>\n",
       "      <th>Blade_Type_is_missing</th>\n",
       "      <th>Blade_Width</th>\n",
       "      <th>Blade_Width_is_missing</th>\n",
       "      <th>Coupler</th>\n",
       "      <th>Coupler_System</th>\n",
       "      <th>...</th>\n",
       "      <th>fiSecondaryDesc</th>\n",
       "      <th>fiSecondaryDesc_is_missing</th>\n",
       "      <th>saleDay</th>\n",
       "      <th>saleDayOfWeek</th>\n",
       "      <th>saleDayOfYear</th>\n",
       "      <th>saleMonth</th>\n",
       "      <th>saleYear</th>\n",
       "      <th>saledate_is_missing</th>\n",
       "      <th>state</th>\n",
       "      <th>state_is_missing</th>\n",
       "    </tr>\n",
       "  </thead>\n",
       "  <tbody>\n",
       "    <tr>\n",
       "      <th>0</th>\n",
       "      <td>0</td>\n",
       "      <td>1</td>\n",
       "      <td>0</td>\n",
       "      <td>1</td>\n",
       "      <td>0</td>\n",
       "      <td>1</td>\n",
       "      <td>0</td>\n",
       "      <td>1</td>\n",
       "      <td>3</td>\n",
       "      <td>0</td>\n",
       "      <td>...</td>\n",
       "      <td>41</td>\n",
       "      <td>0</td>\n",
       "      <td>16</td>\n",
       "      <td>3</td>\n",
       "      <td>320</td>\n",
       "      <td>11</td>\n",
       "      <td>2006</td>\n",
       "      <td>0</td>\n",
       "      <td>1</td>\n",
       "      <td>0</td>\n",
       "    </tr>\n",
       "    <tr>\n",
       "      <th>1</th>\n",
       "      <td>0</td>\n",
       "      <td>1</td>\n",
       "      <td>0</td>\n",
       "      <td>1</td>\n",
       "      <td>0</td>\n",
       "      <td>1</td>\n",
       "      <td>0</td>\n",
       "      <td>1</td>\n",
       "      <td>3</td>\n",
       "      <td>0</td>\n",
       "      <td>...</td>\n",
       "      <td>55</td>\n",
       "      <td>0</td>\n",
       "      <td>26</td>\n",
       "      <td>4</td>\n",
       "      <td>86</td>\n",
       "      <td>3</td>\n",
       "      <td>2004</td>\n",
       "      <td>0</td>\n",
       "      <td>33</td>\n",
       "      <td>0</td>\n",
       "    </tr>\n",
       "    <tr>\n",
       "      <th>2</th>\n",
       "      <td>0</td>\n",
       "      <td>1</td>\n",
       "      <td>0</td>\n",
       "      <td>1</td>\n",
       "      <td>0</td>\n",
       "      <td>1</td>\n",
       "      <td>0</td>\n",
       "      <td>1</td>\n",
       "      <td>3</td>\n",
       "      <td>1</td>\n",
       "      <td>...</td>\n",
       "      <td>0</td>\n",
       "      <td>1</td>\n",
       "      <td>26</td>\n",
       "      <td>3</td>\n",
       "      <td>57</td>\n",
       "      <td>2</td>\n",
       "      <td>2004</td>\n",
       "      <td>0</td>\n",
       "      <td>32</td>\n",
       "      <td>0</td>\n",
       "    </tr>\n",
       "    <tr>\n",
       "      <th>3</th>\n",
       "      <td>0</td>\n",
       "      <td>1</td>\n",
       "      <td>0</td>\n",
       "      <td>1</td>\n",
       "      <td>0</td>\n",
       "      <td>1</td>\n",
       "      <td>0</td>\n",
       "      <td>1</td>\n",
       "      <td>3</td>\n",
       "      <td>0</td>\n",
       "      <td>...</td>\n",
       "      <td>0</td>\n",
       "      <td>1</td>\n",
       "      <td>19</td>\n",
       "      <td>3</td>\n",
       "      <td>139</td>\n",
       "      <td>5</td>\n",
       "      <td>2011</td>\n",
       "      <td>0</td>\n",
       "      <td>44</td>\n",
       "      <td>0</td>\n",
       "    </tr>\n",
       "    <tr>\n",
       "      <th>4</th>\n",
       "      <td>0</td>\n",
       "      <td>1</td>\n",
       "      <td>0</td>\n",
       "      <td>1</td>\n",
       "      <td>0</td>\n",
       "      <td>1</td>\n",
       "      <td>0</td>\n",
       "      <td>1</td>\n",
       "      <td>3</td>\n",
       "      <td>1</td>\n",
       "      <td>...</td>\n",
       "      <td>0</td>\n",
       "      <td>1</td>\n",
       "      <td>23</td>\n",
       "      <td>3</td>\n",
       "      <td>204</td>\n",
       "      <td>7</td>\n",
       "      <td>2009</td>\n",
       "      <td>0</td>\n",
       "      <td>32</td>\n",
       "      <td>0</td>\n",
       "    </tr>\n",
       "  </tbody>\n",
       "</table>\n",
       "<p>5 rows × 110 columns</p>\n",
       "</div>"
      ],
      "text/plain": [
       "   Backhoe_Mounting  Backhoe_Mounting_is_missing  Blade_Extension  \\\n",
       "0                 0                            1                0   \n",
       "1                 0                            1                0   \n",
       "2                 0                            1                0   \n",
       "3                 0                            1                0   \n",
       "4                 0                            1                0   \n",
       "\n",
       "   Blade_Extension_is_missing  Blade_Type  Blade_Type_is_missing  Blade_Width  \\\n",
       "0                           1           0                      1            0   \n",
       "1                           1           0                      1            0   \n",
       "2                           1           0                      1            0   \n",
       "3                           1           0                      1            0   \n",
       "4                           1           0                      1            0   \n",
       "\n",
       "   Blade_Width_is_missing  Coupler  Coupler_System  ...  fiSecondaryDesc  \\\n",
       "0                       1        3               0  ...               41   \n",
       "1                       1        3               0  ...               55   \n",
       "2                       1        3               1  ...                0   \n",
       "3                       1        3               0  ...                0   \n",
       "4                       1        3               1  ...                0   \n",
       "\n",
       "   fiSecondaryDesc_is_missing  saleDay  saleDayOfWeek  saleDayOfYear  \\\n",
       "0                           0       16              3            320   \n",
       "1                           0       26              4             86   \n",
       "2                           1       26              3             57   \n",
       "3                           1       19              3            139   \n",
       "4                           1       23              3            204   \n",
       "\n",
       "   saleMonth  saleYear  saledate_is_missing  state  state_is_missing  \n",
       "0         11      2006                    0      1                 0  \n",
       "1          3      2004                    0     33                 0  \n",
       "2          2      2004                    0     32                 0  \n",
       "3          5      2011                    0     44                 0  \n",
       "4          7      2009                    0     32                 0  \n",
       "\n",
       "[5 rows x 110 columns]"
      ]
     },
     "execution_count": 45,
     "metadata": {},
     "output_type": "execute_result"
    }
   ],
   "source": [
    "print(train_data.shape, train_df.shape)\n",
    "train_df.head()"
   ]
  },
  {
   "cell_type": "code",
   "execution_count": 46,
   "id": "4d15dda9-0dd4-476d-b950-12babab13caf",
   "metadata": {},
   "outputs": [
    {
     "data": {
      "image/png": "[encoded data removed]",
      "text/plain": [
       "<Figure size 1000x500 with 2 Axes>"
      ]
     },
     "metadata": {},
     "output_type": "display_data"
    }
   ],
   "source": [
    "fig, ax = plt.subplots(nrows = 1, ncols = 2, figsize = (10, 5), sharex = False)\n",
    "\n",
    "sns.histplot(train_data.SalePrice, kde = True, bins = 50, ax = ax[0])\n",
    "ax[0].title.set_text('Historgram (SalePrice) Before Transform')\n",
    "sns.histplot(train_df.SalePrice, kde = True, bins = 50, ax = ax[1])              \n",
    "ax[1].title.set_text('Historgram (SalePrice) After Transform');"
   ]
  },
  {
   "cell_type": "markdown",
   "id": "05bf3632-9a65-4c47-ae4b-a31f9c5e467a",
   "metadata": {},
   "source": [
    "### Train - Validation Split"
   ]
  },
  {
   "cell_type": "code",
   "execution_count": 47,
   "id": "68fd2f55-dcc4-4ba9-9120-5d3ebcd3c6cf",
   "metadata": {},
   "outputs": [],
   "source": [
    "X, y = train_df.drop('SalePrice', axis = 1), train_df.SalePrice\n",
    "X_train, X_val, y_train, y_val = train_test_split(X, y, test_size = 0.20)"
   ]
  },
  {
   "cell_type": "markdown",
   "id": "7b853d85-a71e-4714-9ba8-c19c251debad",
   "metadata": {},
   "source": [
    "### Hyperparameter Tuning for `RandomForestRegressor`"
   ]
  },
  {
   "cell_type": "code",
   "execution_count": 48,
   "id": "8af18bea-1848-4cbb-8cae-b7592da181e1",
   "metadata": {},
   "outputs": [
    {
     "name": "stdout",
     "output_type": "stream",
     "text": [
      "Fitting 5 folds for each of 100 candidates, totalling 500 fits\n",
      "CPU times: total: 21min 7s\n",
      "Wall time: 1h 2min 15s\n"
     ]
    }
   ],
   "source": [
    "%%time\n",
    "from sklearn.model_selection import RandomizedSearchCV\n",
    "\n",
    "param_grid = {\n",
    "    'n_estimators': np.arange(10, 100, 10),\n",
    "    'max_depth': [None, 3, 5, 10],\n",
    "    'min_samples_split': np.arange(2, 20, 2),\n",
    "    'min_samples_leaf': np.arange(1, 20, 2),\n",
    "    'max_features': [0.5, 1, 'sqrt', 'log2'],\n",
    "    'max_samples': [10000]\n",
    "}\n",
    "\n",
    "rs_model = RandomizedSearchCV(RandomForestRegressor(),\n",
    "                              param_distributions = param_grid,\n",
    "                              cv = 5,\n",
    "                              n_iter = 100,\n",
    "                              verbose = True\n",
    "                             )\n",
    "\n",
    "rs_model.fit(X_train, y_train);"
   ]
  },
  {
   "cell_type": "markdown",
   "id": "6d4d4817-474a-483b-addb-7721644bd1de",
   "metadata": {},
   "source": [
    "### Evaluate the randomized model"
   ]
  },
  {
   "cell_type": "code",
   "execution_count": 49,
   "id": "c106b460-5ac5-4f00-a312-bff41bb5b202",
   "metadata": {},
   "outputs": [
    {
     "data": {
      "text/plain": [
       "{'Training MAE': 6044.054070698863,\n",
       " 'Validation MAE': 6166.338142602213,\n",
       " 'Training RMSLE': 0.2751013567728564,\n",
       " 'Validation RMSLE': 0.2788663137524668,\n",
       " 'Training R^2': 0.8364059463527026,\n",
       " 'Validation R^2': 0.832199848955121}"
      ]
     },
     "execution_count": 49,
     "metadata": {},
     "output_type": "execute_result"
    }
   ],
   "source": [
    "scores = regression_scores_from_model(rs_model, X_train, y_train, X_val, y_val)\n",
    "scores"
   ]
  },
  {
   "cell_type": "markdown",
   "id": "d530e46b",
   "metadata": {},
   "source": [
    "### Best Parameters"
   ]
  },
  {
   "cell_type": "code",
   "execution_count": 50,
   "id": "a9a69010-2b28-4dc3-870d-13bf989de8ab",
   "metadata": {},
   "outputs": [
    {
     "data": {
      "text/plain": [
       "{'n_estimators': 90,\n",
       " 'min_samples_split': 10,\n",
       " 'min_samples_leaf': 5,\n",
       " 'max_samples': 10000,\n",
       " 'max_features': 0.5,\n",
       " 'max_depth': None}"
      ]
     },
     "execution_count": 50,
     "metadata": {},
     "output_type": "execute_result"
    }
   ],
   "source": [
    "rs_model.best_params_"
   ]
  },
  {
   "cell_type": "markdown",
   "id": "3ef4d99e-4f70-41a1-b63a-2019059ceb20",
   "metadata": {},
   "source": [
    "### Load and preprocess the Validation dataset\n",
    "The **validation set** includes all data in 2012. According to [Dataset Description](https://www.kaggle.com/c/bluebook-for-bulldozers/data?select=Data+Dictionary.xlsx):\n",
    "\n",
    "* **Valid.csv** is the validation set, which contains data from **January 1, 2012 - April 30, 2012** You make predictions on this set throughout the majority of the competition. Your score on this set is used to create the public leaderboard."
   ]
  },
  {
   "cell_type": "code",
   "execution_count": 51,
   "id": "201adf03-0a09-4e52-bab8-05bf0c364e59",
   "metadata": {},
   "outputs": [],
   "source": [
    "valid_data = pd.read_csv('../resources/data/bulldozers/Valid.csv', parse_dates = ['saledate'], low_memory = False)"
   ]
  },
  {
   "cell_type": "code",
   "execution_count": 52,
   "id": "2ccb755c-4d1a-4537-b370-8193cef93cf3",
   "metadata": {},
   "outputs": [
    {
     "name": "stdout",
     "output_type": "stream",
     "text": [
      "(11573, 52)\n"
     ]
    },
    {
     "data": {
      "text/html": [
       "<div>\n",
       "<style scoped>\n",
       "    .dataframe tbody tr th:only-of-type {\n",
       "        vertical-align: middle;\n",
       "    }\n",
       "\n",
       "    .dataframe tbody tr th {\n",
       "        vertical-align: top;\n",
       "    }\n",
       "\n",
       "    .dataframe thead th {\n",
       "        text-align: right;\n",
       "    }\n",
       "</style>\n",
       "<table border=\"1\" class=\"dataframe\">\n",
       "  <thead>\n",
       "    <tr style=\"text-align: right;\">\n",
       "      <th></th>\n",
       "      <th>SalesID</th>\n",
       "      <th>MachineID</th>\n",
       "      <th>ModelID</th>\n",
       "      <th>datasource</th>\n",
       "      <th>auctioneerID</th>\n",
       "      <th>YearMade</th>\n",
       "      <th>MachineHoursCurrentMeter</th>\n",
       "      <th>UsageBand</th>\n",
       "      <th>saledate</th>\n",
       "      <th>fiModelDesc</th>\n",
       "      <th>...</th>\n",
       "      <th>Undercarriage_Pad_Width</th>\n",
       "      <th>Stick_Length</th>\n",
       "      <th>Thumb</th>\n",
       "      <th>Pattern_Changer</th>\n",
       "      <th>Grouser_Type</th>\n",
       "      <th>Backhoe_Mounting</th>\n",
       "      <th>Blade_Type</th>\n",
       "      <th>Travel_Controls</th>\n",
       "      <th>Differential_Type</th>\n",
       "      <th>Steering_Controls</th>\n",
       "    </tr>\n",
       "  </thead>\n",
       "  <tbody>\n",
       "    <tr>\n",
       "      <th>0</th>\n",
       "      <td>1222837</td>\n",
       "      <td>902859</td>\n",
       "      <td>1376</td>\n",
       "      <td>121</td>\n",
       "      <td>3</td>\n",
       "      <td>1000</td>\n",
       "      <td>0.0</td>\n",
       "      <td>NaN</td>\n",
       "      <td>2012-01-05</td>\n",
       "      <td>375L</td>\n",
       "      <td>...</td>\n",
       "      <td>None or Unspecified</td>\n",
       "      <td>None or Unspecified</td>\n",
       "      <td>None or Unspecified</td>\n",
       "      <td>None or Unspecified</td>\n",
       "      <td>Double</td>\n",
       "      <td>NaN</td>\n",
       "      <td>NaN</td>\n",
       "      <td>NaN</td>\n",
       "      <td>NaN</td>\n",
       "      <td>NaN</td>\n",
       "    </tr>\n",
       "    <tr>\n",
       "      <th>1</th>\n",
       "      <td>1222839</td>\n",
       "      <td>1048320</td>\n",
       "      <td>36526</td>\n",
       "      <td>121</td>\n",
       "      <td>3</td>\n",
       "      <td>2006</td>\n",
       "      <td>4412.0</td>\n",
       "      <td>Medium</td>\n",
       "      <td>2012-01-05</td>\n",
       "      <td>TX300LC2</td>\n",
       "      <td>...</td>\n",
       "      <td>None or Unspecified</td>\n",
       "      <td>12' 4\"</td>\n",
       "      <td>None or Unspecified</td>\n",
       "      <td>Yes</td>\n",
       "      <td>Double</td>\n",
       "      <td>NaN</td>\n",
       "      <td>NaN</td>\n",
       "      <td>NaN</td>\n",
       "      <td>NaN</td>\n",
       "      <td>NaN</td>\n",
       "    </tr>\n",
       "    <tr>\n",
       "      <th>2</th>\n",
       "      <td>1222841</td>\n",
       "      <td>999308</td>\n",
       "      <td>4587</td>\n",
       "      <td>121</td>\n",
       "      <td>3</td>\n",
       "      <td>2000</td>\n",
       "      <td>10127.0</td>\n",
       "      <td>Medium</td>\n",
       "      <td>2012-01-05</td>\n",
       "      <td>270LC</td>\n",
       "      <td>...</td>\n",
       "      <td>None or Unspecified</td>\n",
       "      <td>12' 4\"</td>\n",
       "      <td>None or Unspecified</td>\n",
       "      <td>None or Unspecified</td>\n",
       "      <td>Double</td>\n",
       "      <td>NaN</td>\n",
       "      <td>NaN</td>\n",
       "      <td>NaN</td>\n",
       "      <td>NaN</td>\n",
       "      <td>NaN</td>\n",
       "    </tr>\n",
       "    <tr>\n",
       "      <th>3</th>\n",
       "      <td>1222843</td>\n",
       "      <td>1062425</td>\n",
       "      <td>1954</td>\n",
       "      <td>121</td>\n",
       "      <td>3</td>\n",
       "      <td>1000</td>\n",
       "      <td>4682.0</td>\n",
       "      <td>Low</td>\n",
       "      <td>2012-01-05</td>\n",
       "      <td>892DLC</td>\n",
       "      <td>...</td>\n",
       "      <td>None or Unspecified</td>\n",
       "      <td>None or Unspecified</td>\n",
       "      <td>None or Unspecified</td>\n",
       "      <td>None or Unspecified</td>\n",
       "      <td>Double</td>\n",
       "      <td>NaN</td>\n",
       "      <td>NaN</td>\n",
       "      <td>NaN</td>\n",
       "      <td>NaN</td>\n",
       "      <td>NaN</td>\n",
       "    </tr>\n",
       "    <tr>\n",
       "      <th>4</th>\n",
       "      <td>1222845</td>\n",
       "      <td>1032841</td>\n",
       "      <td>4701</td>\n",
       "      <td>121</td>\n",
       "      <td>3</td>\n",
       "      <td>2002</td>\n",
       "      <td>8150.0</td>\n",
       "      <td>Medium</td>\n",
       "      <td>2012-01-04</td>\n",
       "      <td>544H</td>\n",
       "      <td>...</td>\n",
       "      <td>NaN</td>\n",
       "      <td>NaN</td>\n",
       "      <td>NaN</td>\n",
       "      <td>NaN</td>\n",
       "      <td>NaN</td>\n",
       "      <td>NaN</td>\n",
       "      <td>NaN</td>\n",
       "      <td>NaN</td>\n",
       "      <td>Standard</td>\n",
       "      <td>Conventional</td>\n",
       "    </tr>\n",
       "  </tbody>\n",
       "</table>\n",
       "<p>5 rows × 52 columns</p>\n",
       "</div>"
      ],
      "text/plain": [
       "   SalesID  MachineID  ModelID  datasource  auctioneerID  YearMade  \\\n",
       "0  1222837     902859     1376         121             3      1000   \n",
       "1  1222839    1048320    36526         121             3      2006   \n",
       "2  1222841     999308     4587         121             3      2000   \n",
       "3  1222843    1062425     1954         121             3      1000   \n",
       "4  1222845    1032841     4701         121             3      2002   \n",
       "\n",
       "   MachineHoursCurrentMeter UsageBand   saledate fiModelDesc  ...  \\\n",
       "0                       0.0       NaN 2012-01-05        375L  ...   \n",
       "1                    4412.0    Medium 2012-01-05    TX300LC2  ...   \n",
       "2                   10127.0    Medium 2012-01-05       270LC  ...   \n",
       "3                    4682.0       Low 2012-01-05      892DLC  ...   \n",
       "4                    8150.0    Medium 2012-01-04        544H  ...   \n",
       "\n",
       "  Undercarriage_Pad_Width         Stick_Length                Thumb  \\\n",
       "0     None or Unspecified  None or Unspecified  None or Unspecified   \n",
       "1     None or Unspecified               12' 4\"  None or Unspecified   \n",
       "2     None or Unspecified               12' 4\"  None or Unspecified   \n",
       "3     None or Unspecified  None or Unspecified  None or Unspecified   \n",
       "4                     NaN                  NaN                  NaN   \n",
       "\n",
       "       Pattern_Changer Grouser_Type Backhoe_Mounting Blade_Type  \\\n",
       "0  None or Unspecified       Double              NaN        NaN   \n",
       "1                  Yes       Double              NaN        NaN   \n",
       "2  None or Unspecified       Double              NaN        NaN   \n",
       "3  None or Unspecified       Double              NaN        NaN   \n",
       "4                  NaN          NaN              NaN        NaN   \n",
       "\n",
       "  Travel_Controls Differential_Type Steering_Controls  \n",
       "0             NaN               NaN               NaN  \n",
       "1             NaN               NaN               NaN  \n",
       "2             NaN               NaN               NaN  \n",
       "3             NaN               NaN               NaN  \n",
       "4             NaN          Standard      Conventional  \n",
       "\n",
       "[5 rows x 52 columns]"
      ]
     },
     "execution_count": 52,
     "metadata": {},
     "output_type": "execute_result"
    }
   ],
   "source": [
    "print(valid_data.shape)\n",
    "valid_data.head()"
   ]
  },
  {
   "cell_type": "code",
   "execution_count": 53,
   "id": "82cb0f7b-1de1-4580-868a-ba815d368330",
   "metadata": {},
   "outputs": [],
   "source": [
    "valid_df = preprocess_data(valid_data)"
   ]
  },
  {
   "cell_type": "code",
   "execution_count": 54,
   "id": "95ad4f73-9710-437d-9e80-001f4440fe0a",
   "metadata": {},
   "outputs": [
    {
     "data": {
      "text/html": [
       "<div>\n",
       "<style scoped>\n",
       "    .dataframe tbody tr th:only-of-type {\n",
       "        vertical-align: middle;\n",
       "    }\n",
       "\n",
       "    .dataframe tbody tr th {\n",
       "        vertical-align: top;\n",
       "    }\n",
       "\n",
       "    .dataframe thead th {\n",
       "        text-align: right;\n",
       "    }\n",
       "</style>\n",
       "<table border=\"1\" class=\"dataframe\">\n",
       "  <thead>\n",
       "    <tr style=\"text-align: right;\">\n",
       "      <th></th>\n",
       "      <th>Backhoe_Mounting</th>\n",
       "      <th>Backhoe_Mounting_is_missing</th>\n",
       "      <th>Blade_Extension</th>\n",
       "      <th>Blade_Extension_is_missing</th>\n",
       "      <th>Blade_Type</th>\n",
       "      <th>Blade_Type_is_missing</th>\n",
       "      <th>Blade_Width</th>\n",
       "      <th>Blade_Width_is_missing</th>\n",
       "      <th>Coupler</th>\n",
       "      <th>Coupler_System</th>\n",
       "      <th>...</th>\n",
       "      <th>fiSecondaryDesc</th>\n",
       "      <th>fiSecondaryDesc_is_missing</th>\n",
       "      <th>saleDay</th>\n",
       "      <th>saleDayOfWeek</th>\n",
       "      <th>saleDayOfYear</th>\n",
       "      <th>saleMonth</th>\n",
       "      <th>saleYear</th>\n",
       "      <th>saledate_is_missing</th>\n",
       "      <th>state</th>\n",
       "      <th>state_is_missing</th>\n",
       "    </tr>\n",
       "  </thead>\n",
       "  <tbody>\n",
       "    <tr>\n",
       "      <th>0</th>\n",
       "      <td>0</td>\n",
       "      <td>1</td>\n",
       "      <td>0</td>\n",
       "      <td>1</td>\n",
       "      <td>0</td>\n",
       "      <td>1</td>\n",
       "      <td>0</td>\n",
       "      <td>1</td>\n",
       "      <td>3</td>\n",
       "      <td>0</td>\n",
       "      <td>...</td>\n",
       "      <td>0</td>\n",
       "      <td>1</td>\n",
       "      <td>5</td>\n",
       "      <td>3</td>\n",
       "      <td>5</td>\n",
       "      <td>1</td>\n",
       "      <td>2012</td>\n",
       "      <td>0</td>\n",
       "      <td>15</td>\n",
       "      <td>0</td>\n",
       "    </tr>\n",
       "    <tr>\n",
       "      <th>1</th>\n",
       "      <td>0</td>\n",
       "      <td>1</td>\n",
       "      <td>0</td>\n",
       "      <td>1</td>\n",
       "      <td>0</td>\n",
       "      <td>1</td>\n",
       "      <td>0</td>\n",
       "      <td>1</td>\n",
       "      <td>1</td>\n",
       "      <td>0</td>\n",
       "      <td>...</td>\n",
       "      <td>32</td>\n",
       "      <td>0</td>\n",
       "      <td>5</td>\n",
       "      <td>3</td>\n",
       "      <td>5</td>\n",
       "      <td>1</td>\n",
       "      <td>2012</td>\n",
       "      <td>0</td>\n",
       "      <td>6</td>\n",
       "      <td>0</td>\n",
       "    </tr>\n",
       "    <tr>\n",
       "      <th>2</th>\n",
       "      <td>0</td>\n",
       "      <td>1</td>\n",
       "      <td>0</td>\n",
       "      <td>1</td>\n",
       "      <td>0</td>\n",
       "      <td>1</td>\n",
       "      <td>0</td>\n",
       "      <td>1</td>\n",
       "      <td>3</td>\n",
       "      <td>0</td>\n",
       "      <td>...</td>\n",
       "      <td>0</td>\n",
       "      <td>1</td>\n",
       "      <td>5</td>\n",
       "      <td>3</td>\n",
       "      <td>5</td>\n",
       "      <td>1</td>\n",
       "      <td>2012</td>\n",
       "      <td>0</td>\n",
       "      <td>6</td>\n",
       "      <td>0</td>\n",
       "    </tr>\n",
       "    <tr>\n",
       "      <th>3</th>\n",
       "      <td>0</td>\n",
       "      <td>1</td>\n",
       "      <td>0</td>\n",
       "      <td>1</td>\n",
       "      <td>0</td>\n",
       "      <td>1</td>\n",
       "      <td>0</td>\n",
       "      <td>1</td>\n",
       "      <td>3</td>\n",
       "      <td>0</td>\n",
       "      <td>...</td>\n",
       "      <td>16</td>\n",
       "      <td>0</td>\n",
       "      <td>5</td>\n",
       "      <td>3</td>\n",
       "      <td>5</td>\n",
       "      <td>1</td>\n",
       "      <td>2012</td>\n",
       "      <td>0</td>\n",
       "      <td>6</td>\n",
       "      <td>0</td>\n",
       "    </tr>\n",
       "    <tr>\n",
       "      <th>4</th>\n",
       "      <td>0</td>\n",
       "      <td>1</td>\n",
       "      <td>0</td>\n",
       "      <td>1</td>\n",
       "      <td>0</td>\n",
       "      <td>1</td>\n",
       "      <td>0</td>\n",
       "      <td>1</td>\n",
       "      <td>2</td>\n",
       "      <td>0</td>\n",
       "      <td>...</td>\n",
       "      <td>24</td>\n",
       "      <td>0</td>\n",
       "      <td>4</td>\n",
       "      <td>2</td>\n",
       "      <td>4</td>\n",
       "      <td>1</td>\n",
       "      <td>2012</td>\n",
       "      <td>0</td>\n",
       "      <td>8</td>\n",
       "      <td>0</td>\n",
       "    </tr>\n",
       "  </tbody>\n",
       "</table>\n",
       "<p>5 rows × 109 columns</p>\n",
       "</div>"
      ],
      "text/plain": [
       "   Backhoe_Mounting  Backhoe_Mounting_is_missing  Blade_Extension  \\\n",
       "0                 0                            1                0   \n",
       "1                 0                            1                0   \n",
       "2                 0                            1                0   \n",
       "3                 0                            1                0   \n",
       "4                 0                            1                0   \n",
       "\n",
       "   Blade_Extension_is_missing  Blade_Type  Blade_Type_is_missing  Blade_Width  \\\n",
       "0                           1           0                      1            0   \n",
       "1                           1           0                      1            0   \n",
       "2                           1           0                      1            0   \n",
       "3                           1           0                      1            0   \n",
       "4                           1           0                      1            0   \n",
       "\n",
       "   Blade_Width_is_missing  Coupler  Coupler_System  ...  fiSecondaryDesc  \\\n",
       "0                       1        3               0  ...                0   \n",
       "1                       1        1               0  ...               32   \n",
       "2                       1        3               0  ...                0   \n",
       "3                       1        3               0  ...               16   \n",
       "4                       1        2               0  ...               24   \n",
       "\n",
       "   fiSecondaryDesc_is_missing  saleDay  saleDayOfWeek  saleDayOfYear  \\\n",
       "0                           1        5              3              5   \n",
       "1                           0        5              3              5   \n",
       "2                           1        5              3              5   \n",
       "3                           0        5              3              5   \n",
       "4                           0        4              2              4   \n",
       "\n",
       "   saleMonth  saleYear  saledate_is_missing  state  state_is_missing  \n",
       "0          1      2012                    0     15                 0  \n",
       "1          1      2012                    0      6                 0  \n",
       "2          1      2012                    0      6                 0  \n",
       "3          1      2012                    0      6                 0  \n",
       "4          1      2012                    0      8                 0  \n",
       "\n",
       "[5 rows x 109 columns]"
      ]
     },
     "execution_count": 54,
     "metadata": {},
     "output_type": "execute_result"
    }
   ],
   "source": [
    "valid_df.head()"
   ]
  },
  {
   "cell_type": "code",
   "execution_count": 57,
   "id": "b51ee409-4e24-494a-9352-f402df3a2d94",
   "metadata": {},
   "outputs": [
    {
     "data": {
      "text/plain": [
       "((11573, 109), (320900, 109))"
      ]
     },
     "execution_count": 57,
     "metadata": {},
     "output_type": "execute_result"
    }
   ],
   "source": [
    "valid_df.shape, X_train.shape"
   ]
  },
  {
   "cell_type": "markdown",
   "id": "7ffe97c3-a96d-42b7-b235-d7f2ee86c20f",
   "metadata": {},
   "source": [
    "### Training a model using best hyperparameters"
   ]
  },
  {
   "cell_type": "code",
   "execution_count": 58,
   "id": "d6702d2b-6a8f-4744-8518-6f417719c28f",
   "metadata": {},
   "outputs": [],
   "source": [
    "%%time\n",
    "rf_reg_model_2 = RandomForestRegressor(n_estimators = 90,\n",
    "                                     min_samples_leaf = 5,\n",
    "                                     min_samples_split = 10,\n",
    "                                     max_features = 0.5,\n",
    "                                     n_jobs = -1\n",
    "                                    )\n",
    "\n",
    "rf_reg_model_2.fit(X_train, y_train);"
   ]
  },
  {
   "cell_type": "markdown",
   "id": "1ecd0ac6-6f93-4053-a0a1-28c330d50806",
   "metadata": {},
   "source": [
    "## Scoring the model\n",
    "### Root Mean Squared Log Error (RMSLE)\n",
    "**RMSLE** is the evaluation metric for this project as stated in the Dataset Description on Kaggle.\n",
    "* **RMSLE** is non-negative floating point value (the best value is 0.0),  \n",
    "* or an array of floating point values, one for each individual target."
   ]
  },
  {
   "cell_type": "code",
   "execution_count": 59,
   "id": "46edeb59-05c2-40cd-bccd-6b3bb7d2066a",
   "metadata": {},
   "outputs": [
    {
     "data": {
      "text/plain": [
       "{'Training MAE': 3189.04697483054,\n",
       " 'Validation MAE': 4498.056517859065,\n",
       " 'Training RMSLE': 0.15695928457193503,\n",
       " 'Validation RMSLE': 0.21461924900109228,\n",
       " 'Training R^2': 0.9502105997172494,\n",
       " 'Validation R^2': 0.9050472784130613}"
      ]
     },
     "execution_count": 59,
     "metadata": {},
     "output_type": "execute_result"
    }
   ],
   "source": [
    "scores = regression_scores_from_model(rf_reg_model_2, X_train, y_train, X_val, y_val)\n",
    "scores"
   ]
  },
  {
   "cell_type": "markdown",
   "id": "b5e80221-d5b2-44f0-8267-ed57fc396dc0",
   "metadata": {},
   "source": [
    "### Predictions on the Validation dataset"
   ]
  },
  {
   "cell_type": "code",
   "execution_count": 60,
   "id": "eace2d39-8aa1-45b4-84b0-d7fbb43dbea6",
   "metadata": {},
   "outputs": [],
   "source": [
    "y_preds_valid = rf_reg_model_2.predict(valid_df)"
   ]
  },
  {
   "cell_type": "code",
   "execution_count": 61,
   "id": "622d2e41-a04c-4c8d-a86c-328113fae495",
   "metadata": {},
   "outputs": [
    {
     "data": {
      "text/plain": [
       "array([29553.71220908, 71276.44672927, 35952.54146634, ...,\n",
       "       15093.03119629, 17583.88321696, 17723.54685864])"
      ]
     },
     "execution_count": 61,
     "metadata": {},
     "output_type": "execute_result"
    }
   ],
   "source": [
    "y_preds_valid"
   ]
  },
  {
   "cell_type": "markdown",
   "id": "894bc55b-73e9-4ab7-9f3b-5c65742ac782",
   "metadata": {},
   "source": [
    "### Visualizing the residues\n",
    "The residues of regression model should be **normally distributed**."
   ]
  },
  {
   "cell_type": "code",
   "execution_count": 62,
   "id": "626f4083-ebd3-42ef-a91c-bd7d9e1e181f",
   "metadata": {},
   "outputs": [],
   "source": [
    "y_preds_val = rf_reg_model_2.predict(X_val)"
   ]
  },
  {
   "cell_type": "code",
   "execution_count": 63,
   "id": "dd8bafba-4db4-4882-98a6-43f148a5aeff",
   "metadata": {},
   "outputs": [
    {
     "data": {
      "image/png": "[encoded data removed]",
      "text/plain": [
       "<Figure size 1000x500 with 2 Axes>"
      ]
     },
     "metadata": {},
     "output_type": "display_data"
    }
   ],
   "source": [
    "residues = y_val - y_preds_val \n",
    "\n",
    "fig, ax = plt.subplots(nrows = 1, ncols = 2, figsize = (10, 5))\n",
    "sns.histplot(residues, kde = True, ax = ax[0])\n",
    "ax[0].title.set_text('Historgram Residues')\n",
    "ax[0].set_xticklabels(ax[0].get_xticks(), rotation = 90)\n",
    "sns.scatterplot(x = y_val, y = y_preds_val,  ax = ax[1])\n",
    "ax[1].set_xticklabels(ax[1].get_xticks(), rotation = 90)\n",
    "ax[1].title.set_text('Scatter plot (Truth Labels Vs Preds)');"
   ]
  },
  {
   "cell_type": "markdown",
   "id": "33fd3d14-8976-4651-9c53-b0e913463a32",
   "metadata": {},
   "source": [
    "### Testing the model (`rf_reg_model_1`) using the test dataset provided\n",
    "* **Test.csv** is the test set, which won't be released until the last week of the competition. It contains data from May 1, 2012 - November 2012. Your score on the test set determines your final rank for the competition"
   ]
  },
  {
   "cell_type": "code",
   "execution_count": 64,
   "id": "205932cf-11be-49c5-8e83-ef500919032a",
   "metadata": {},
   "outputs": [
    {
     "name": "stdout",
     "output_type": "stream",
     "text": [
      "(12457, 52)\n"
     ]
    },
    {
     "data": {
      "text/html": [
       "<div>\n",
       "<style scoped>\n",
       "    .dataframe tbody tr th:only-of-type {\n",
       "        vertical-align: middle;\n",
       "    }\n",
       "\n",
       "    .dataframe tbody tr th {\n",
       "        vertical-align: top;\n",
       "    }\n",
       "\n",
       "    .dataframe thead th {\n",
       "        text-align: right;\n",
       "    }\n",
       "</style>\n",
       "<table border=\"1\" class=\"dataframe\">\n",
       "  <thead>\n",
       "    <tr style=\"text-align: right;\">\n",
       "      <th></th>\n",
       "      <th>SalesID</th>\n",
       "      <th>MachineID</th>\n",
       "      <th>ModelID</th>\n",
       "      <th>datasource</th>\n",
       "      <th>auctioneerID</th>\n",
       "      <th>YearMade</th>\n",
       "      <th>MachineHoursCurrentMeter</th>\n",
       "      <th>UsageBand</th>\n",
       "      <th>saledate</th>\n",
       "      <th>fiModelDesc</th>\n",
       "      <th>...</th>\n",
       "      <th>Undercarriage_Pad_Width</th>\n",
       "      <th>Stick_Length</th>\n",
       "      <th>Thumb</th>\n",
       "      <th>Pattern_Changer</th>\n",
       "      <th>Grouser_Type</th>\n",
       "      <th>Backhoe_Mounting</th>\n",
       "      <th>Blade_Type</th>\n",
       "      <th>Travel_Controls</th>\n",
       "      <th>Differential_Type</th>\n",
       "      <th>Steering_Controls</th>\n",
       "    </tr>\n",
       "  </thead>\n",
       "  <tbody>\n",
       "    <tr>\n",
       "      <th>0</th>\n",
       "      <td>1227829</td>\n",
       "      <td>1006309</td>\n",
       "      <td>3168</td>\n",
       "      <td>121</td>\n",
       "      <td>3</td>\n",
       "      <td>1999</td>\n",
       "      <td>3688.0</td>\n",
       "      <td>Low</td>\n",
       "      <td>2012-05-03</td>\n",
       "      <td>580G</td>\n",
       "      <td>...</td>\n",
       "      <td>NaN</td>\n",
       "      <td>NaN</td>\n",
       "      <td>NaN</td>\n",
       "      <td>NaN</td>\n",
       "      <td>NaN</td>\n",
       "      <td>NaN</td>\n",
       "      <td>NaN</td>\n",
       "      <td>NaN</td>\n",
       "      <td>NaN</td>\n",
       "      <td>NaN</td>\n",
       "    </tr>\n",
       "    <tr>\n",
       "      <th>1</th>\n",
       "      <td>1227844</td>\n",
       "      <td>1022817</td>\n",
       "      <td>7271</td>\n",
       "      <td>121</td>\n",
       "      <td>3</td>\n",
       "      <td>1000</td>\n",
       "      <td>28555.0</td>\n",
       "      <td>High</td>\n",
       "      <td>2012-05-10</td>\n",
       "      <td>936</td>\n",
       "      <td>...</td>\n",
       "      <td>NaN</td>\n",
       "      <td>NaN</td>\n",
       "      <td>NaN</td>\n",
       "      <td>NaN</td>\n",
       "      <td>NaN</td>\n",
       "      <td>NaN</td>\n",
       "      <td>NaN</td>\n",
       "      <td>NaN</td>\n",
       "      <td>Standard</td>\n",
       "      <td>Conventional</td>\n",
       "    </tr>\n",
       "    <tr>\n",
       "      <th>2</th>\n",
       "      <td>1227847</td>\n",
       "      <td>1031560</td>\n",
       "      <td>22805</td>\n",
       "      <td>121</td>\n",
       "      <td>3</td>\n",
       "      <td>2004</td>\n",
       "      <td>6038.0</td>\n",
       "      <td>Medium</td>\n",
       "      <td>2012-05-10</td>\n",
       "      <td>EC210BLC</td>\n",
       "      <td>...</td>\n",
       "      <td>None or Unspecified</td>\n",
       "      <td>9' 6\"</td>\n",
       "      <td>Manual</td>\n",
       "      <td>None or Unspecified</td>\n",
       "      <td>Double</td>\n",
       "      <td>NaN</td>\n",
       "      <td>NaN</td>\n",
       "      <td>NaN</td>\n",
       "      <td>NaN</td>\n",
       "      <td>NaN</td>\n",
       "    </tr>\n",
       "    <tr>\n",
       "      <th>3</th>\n",
       "      <td>1227848</td>\n",
       "      <td>56204</td>\n",
       "      <td>1269</td>\n",
       "      <td>121</td>\n",
       "      <td>3</td>\n",
       "      <td>2006</td>\n",
       "      <td>8940.0</td>\n",
       "      <td>High</td>\n",
       "      <td>2012-05-10</td>\n",
       "      <td>330CL</td>\n",
       "      <td>...</td>\n",
       "      <td>None or Unspecified</td>\n",
       "      <td>None or Unspecified</td>\n",
       "      <td>Manual</td>\n",
       "      <td>Yes</td>\n",
       "      <td>Triple</td>\n",
       "      <td>NaN</td>\n",
       "      <td>NaN</td>\n",
       "      <td>NaN</td>\n",
       "      <td>NaN</td>\n",
       "      <td>NaN</td>\n",
       "    </tr>\n",
       "    <tr>\n",
       "      <th>4</th>\n",
       "      <td>1227863</td>\n",
       "      <td>1053887</td>\n",
       "      <td>22312</td>\n",
       "      <td>121</td>\n",
       "      <td>3</td>\n",
       "      <td>2005</td>\n",
       "      <td>2286.0</td>\n",
       "      <td>Low</td>\n",
       "      <td>2012-05-10</td>\n",
       "      <td>650K</td>\n",
       "      <td>...</td>\n",
       "      <td>NaN</td>\n",
       "      <td>NaN</td>\n",
       "      <td>NaN</td>\n",
       "      <td>NaN</td>\n",
       "      <td>NaN</td>\n",
       "      <td>None or Unspecified</td>\n",
       "      <td>PAT</td>\n",
       "      <td>None or Unspecified</td>\n",
       "      <td>NaN</td>\n",
       "      <td>NaN</td>\n",
       "    </tr>\n",
       "  </tbody>\n",
       "</table>\n",
       "<p>5 rows × 52 columns</p>\n",
       "</div>"
      ],
      "text/plain": [
       "   SalesID  MachineID  ModelID  datasource  auctioneerID  YearMade  \\\n",
       "0  1227829    1006309     3168         121             3      1999   \n",
       "1  1227844    1022817     7271         121             3      1000   \n",
       "2  1227847    1031560    22805         121             3      2004   \n",
       "3  1227848      56204     1269         121             3      2006   \n",
       "4  1227863    1053887    22312         121             3      2005   \n",
       "\n",
       "   MachineHoursCurrentMeter UsageBand   saledate fiModelDesc  ...  \\\n",
       "0                    3688.0       Low 2012-05-03        580G  ...   \n",
       "1                   28555.0      High 2012-05-10         936  ...   \n",
       "2                    6038.0    Medium 2012-05-10    EC210BLC  ...   \n",
       "3                    8940.0      High 2012-05-10       330CL  ...   \n",
       "4                    2286.0       Low 2012-05-10        650K  ...   \n",
       "\n",
       "  Undercarriage_Pad_Width         Stick_Length   Thumb      Pattern_Changer  \\\n",
       "0                     NaN                  NaN     NaN                  NaN   \n",
       "1                     NaN                  NaN     NaN                  NaN   \n",
       "2     None or Unspecified                9' 6\"  Manual  None or Unspecified   \n",
       "3     None or Unspecified  None or Unspecified  Manual                  Yes   \n",
       "4                     NaN                  NaN     NaN                  NaN   \n",
       "\n",
       "  Grouser_Type     Backhoe_Mounting Blade_Type      Travel_Controls  \\\n",
       "0          NaN                  NaN        NaN                  NaN   \n",
       "1          NaN                  NaN        NaN                  NaN   \n",
       "2       Double                  NaN        NaN                  NaN   \n",
       "3       Triple                  NaN        NaN                  NaN   \n",
       "4          NaN  None or Unspecified        PAT  None or Unspecified   \n",
       "\n",
       "  Differential_Type Steering_Controls  \n",
       "0               NaN               NaN  \n",
       "1          Standard      Conventional  \n",
       "2               NaN               NaN  \n",
       "3               NaN               NaN  \n",
       "4               NaN               NaN  \n",
       "\n",
       "[5 rows x 52 columns]"
      ]
     },
     "execution_count": 64,
     "metadata": {},
     "output_type": "execute_result"
    }
   ],
   "source": [
    "df_test = pd.read_csv('../resources/data/bulldozers/Test.csv', parse_dates = ['saledate'], low_memory = False)\n",
    "print(df_test.shape)\n",
    "df_test.head()"
   ]
  },
  {
   "cell_type": "markdown",
   "id": "7b3bc40a-d00b-456b-98d9-0df7f24ba174",
   "metadata": {},
   "source": [
    "#### Process Test data"
   ]
  },
  {
   "cell_type": "code",
   "execution_count": 65,
   "id": "17680ca4-6122-4e26-b553-f5ecdf3b16b1",
   "metadata": {},
   "outputs": [],
   "source": [
    "test_df = preprocess_data(df_test)"
   ]
  },
  {
   "cell_type": "code",
   "execution_count": 66,
   "id": "34e61f60-662a-419b-b118-cc973f9b10c8",
   "metadata": {},
   "outputs": [
    {
     "name": "stdout",
     "output_type": "stream",
     "text": [
      "(12457, 109)\n"
     ]
    },
    {
     "data": {
      "text/html": [
       "<div>\n",
       "<style scoped>\n",
       "    .dataframe tbody tr th:only-of-type {\n",
       "        vertical-align: middle;\n",
       "    }\n",
       "\n",
       "    .dataframe tbody tr th {\n",
       "        vertical-align: top;\n",
       "    }\n",
       "\n",
       "    .dataframe thead th {\n",
       "        text-align: right;\n",
       "    }\n",
       "</style>\n",
       "<table border=\"1\" class=\"dataframe\">\n",
       "  <thead>\n",
       "    <tr style=\"text-align: right;\">\n",
       "      <th></th>\n",
       "      <th>Backhoe_Mounting</th>\n",
       "      <th>Backhoe_Mounting_is_missing</th>\n",
       "      <th>Blade_Extension</th>\n",
       "      <th>Blade_Extension_is_missing</th>\n",
       "      <th>Blade_Type</th>\n",
       "      <th>Blade_Type_is_missing</th>\n",
       "      <th>Blade_Width</th>\n",
       "      <th>Blade_Width_is_missing</th>\n",
       "      <th>Coupler</th>\n",
       "      <th>Coupler_System</th>\n",
       "      <th>...</th>\n",
       "      <th>fiSecondaryDesc</th>\n",
       "      <th>fiSecondaryDesc_is_missing</th>\n",
       "      <th>saleDay</th>\n",
       "      <th>saleDayOfWeek</th>\n",
       "      <th>saleDayOfYear</th>\n",
       "      <th>saleMonth</th>\n",
       "      <th>saleYear</th>\n",
       "      <th>saledate_is_missing</th>\n",
       "      <th>state</th>\n",
       "      <th>state_is_missing</th>\n",
       "    </tr>\n",
       "  </thead>\n",
       "  <tbody>\n",
       "    <tr>\n",
       "      <th>0</th>\n",
       "      <td>0</td>\n",
       "      <td>1</td>\n",
       "      <td>0</td>\n",
       "      <td>1</td>\n",
       "      <td>0</td>\n",
       "      <td>1</td>\n",
       "      <td>0</td>\n",
       "      <td>1</td>\n",
       "      <td>0</td>\n",
       "      <td>0</td>\n",
       "      <td>...</td>\n",
       "      <td>25</td>\n",
       "      <td>0</td>\n",
       "      <td>3</td>\n",
       "      <td>3</td>\n",
       "      <td>124</td>\n",
       "      <td>5</td>\n",
       "      <td>2012</td>\n",
       "      <td>0</td>\n",
       "      <td>51</td>\n",
       "      <td>0</td>\n",
       "    </tr>\n",
       "    <tr>\n",
       "      <th>1</th>\n",
       "      <td>0</td>\n",
       "      <td>1</td>\n",
       "      <td>0</td>\n",
       "      <td>1</td>\n",
       "      <td>0</td>\n",
       "      <td>1</td>\n",
       "      <td>0</td>\n",
       "      <td>1</td>\n",
       "      <td>3</td>\n",
       "      <td>0</td>\n",
       "      <td>...</td>\n",
       "      <td>0</td>\n",
       "      <td>1</td>\n",
       "      <td>10</td>\n",
       "      <td>3</td>\n",
       "      <td>131</td>\n",
       "      <td>5</td>\n",
       "      <td>2012</td>\n",
       "      <td>0</td>\n",
       "      <td>46</td>\n",
       "      <td>0</td>\n",
       "    </tr>\n",
       "    <tr>\n",
       "      <th>2</th>\n",
       "      <td>0</td>\n",
       "      <td>1</td>\n",
       "      <td>0</td>\n",
       "      <td>1</td>\n",
       "      <td>0</td>\n",
       "      <td>1</td>\n",
       "      <td>0</td>\n",
       "      <td>1</td>\n",
       "      <td>3</td>\n",
       "      <td>0</td>\n",
       "      <td>...</td>\n",
       "      <td>9</td>\n",
       "      <td>0</td>\n",
       "      <td>10</td>\n",
       "      <td>3</td>\n",
       "      <td>131</td>\n",
       "      <td>5</td>\n",
       "      <td>2012</td>\n",
       "      <td>0</td>\n",
       "      <td>29</td>\n",
       "      <td>0</td>\n",
       "    </tr>\n",
       "    <tr>\n",
       "      <th>3</th>\n",
       "      <td>0</td>\n",
       "      <td>1</td>\n",
       "      <td>0</td>\n",
       "      <td>1</td>\n",
       "      <td>0</td>\n",
       "      <td>1</td>\n",
       "      <td>0</td>\n",
       "      <td>1</td>\n",
       "      <td>3</td>\n",
       "      <td>0</td>\n",
       "      <td>...</td>\n",
       "      <td>13</td>\n",
       "      <td>0</td>\n",
       "      <td>10</td>\n",
       "      <td>3</td>\n",
       "      <td>131</td>\n",
       "      <td>5</td>\n",
       "      <td>2012</td>\n",
       "      <td>0</td>\n",
       "      <td>29</td>\n",
       "      <td>0</td>\n",
       "    </tr>\n",
       "    <tr>\n",
       "      <th>4</th>\n",
       "      <td>1</td>\n",
       "      <td>0</td>\n",
       "      <td>0</td>\n",
       "      <td>1</td>\n",
       "      <td>4</td>\n",
       "      <td>0</td>\n",
       "      <td>0</td>\n",
       "      <td>1</td>\n",
       "      <td>0</td>\n",
       "      <td>0</td>\n",
       "      <td>...</td>\n",
       "      <td>33</td>\n",
       "      <td>0</td>\n",
       "      <td>10</td>\n",
       "      <td>3</td>\n",
       "      <td>131</td>\n",
       "      <td>5</td>\n",
       "      <td>2012</td>\n",
       "      <td>0</td>\n",
       "      <td>8</td>\n",
       "      <td>0</td>\n",
       "    </tr>\n",
       "  </tbody>\n",
       "</table>\n",
       "<p>5 rows × 109 columns</p>\n",
       "</div>"
      ],
      "text/plain": [
       "   Backhoe_Mounting  Backhoe_Mounting_is_missing  Blade_Extension  \\\n",
       "0                 0                            1                0   \n",
       "1                 0                            1                0   \n",
       "2                 0                            1                0   \n",
       "3                 0                            1                0   \n",
       "4                 1                            0                0   \n",
       "\n",
       "   Blade_Extension_is_missing  Blade_Type  Blade_Type_is_missing  Blade_Width  \\\n",
       "0                           1           0                      1            0   \n",
       "1                           1           0                      1            0   \n",
       "2                           1           0                      1            0   \n",
       "3                           1           0                      1            0   \n",
       "4                           1           4                      0            0   \n",
       "\n",
       "   Blade_Width_is_missing  Coupler  Coupler_System  ...  fiSecondaryDesc  \\\n",
       "0                       1        0               0  ...               25   \n",
       "1                       1        3               0  ...                0   \n",
       "2                       1        3               0  ...                9   \n",
       "3                       1        3               0  ...               13   \n",
       "4                       1        0               0  ...               33   \n",
       "\n",
       "   fiSecondaryDesc_is_missing  saleDay  saleDayOfWeek  saleDayOfYear  \\\n",
       "0                           0        3              3            124   \n",
       "1                           1       10              3            131   \n",
       "2                           0       10              3            131   \n",
       "3                           0       10              3            131   \n",
       "4                           0       10              3            131   \n",
       "\n",
       "   saleMonth  saleYear  saledate_is_missing  state  state_is_missing  \n",
       "0          5      2012                    0     51                 0  \n",
       "1          5      2012                    0     46                 0  \n",
       "2          5      2012                    0     29                 0  \n",
       "3          5      2012                    0     29                 0  \n",
       "4          5      2012                    0      8                 0  \n",
       "\n",
       "[5 rows x 109 columns]"
      ]
     },
     "execution_count": 66,
     "metadata": {},
     "output_type": "execute_result"
    }
   ],
   "source": [
    "print(test_df.shape)\n",
    "test_df.head()"
   ]
  },
  {
   "cell_type": "code",
   "execution_count": 67,
   "id": "842dba58-dec5-42ba-992b-e0b64242c2ca",
   "metadata": {},
   "outputs": [
    {
     "name": "stdout",
     "output_type": "stream",
     "text": [
      "Series([], dtype: int64)\n"
     ]
    }
   ],
   "source": [
    "z = test_df.isnull().sum()\n",
    "print(z[z > 0])"
   ]
  },
  {
   "cell_type": "markdown",
   "id": "68eee66b-3d89-497f-bd8c-38d970874013",
   "metadata": {},
   "source": [
    "### Evaluating the model using preprocessed test dataset"
   ]
  },
  {
   "cell_type": "code",
   "execution_count": 68,
   "id": "1e4a9458-630d-4ecf-a0a1-eee86770bde7",
   "metadata": {},
   "outputs": [
    {
     "data": {
      "text/plain": [
       "set()"
      ]
     },
     "execution_count": 68,
     "metadata": {},
     "output_type": "execute_result"
    }
   ],
   "source": [
    "set(list(X_train)) - set(list(test_df))      # find the missing column"
   ]
  },
  {
   "cell_type": "code",
   "execution_count": 69,
   "id": "27e826a0-953c-47e2-878d-bd81568c3fef",
   "metadata": {},
   "outputs": [
    {
     "name": "stdout",
     "output_type": "stream",
     "text": [
      "CPU times: total: 328 ms\n",
      "Wall time: 151 ms\n"
     ]
    }
   ],
   "source": [
    "%%time\n",
    "y_preds_test = rf_reg_model_2.predict(test_df)"
   ]
  },
  {
   "cell_type": "code",
   "execution_count": 70,
   "id": "cb498b0a-b861-4b96-8a7a-79964a67143b",
   "metadata": {},
   "outputs": [
    {
     "data": {
      "text/plain": [
       "array([17677.46046808, 16419.52844709, 47012.72677939, ...,\n",
       "       12938.2926468 , 16379.53331817, 24650.80774209])"
      ]
     },
     "execution_count": 70,
     "metadata": {},
     "output_type": "execute_result"
    }
   ],
   "source": [
    "y_preds_test"
   ]
  },
  {
   "cell_type": "code",
   "execution_count": 71,
   "id": "4b768ba9-30c3-4aa0-90d3-780cb3c21e32",
   "metadata": {},
   "outputs": [
    {
     "data": {
      "text/plain": [
       "12457"
      ]
     },
     "execution_count": 71,
     "metadata": {},
     "output_type": "execute_result"
    }
   ],
   "source": [
    "len(y_preds_test)"
   ]
  },
  {
   "cell_type": "markdown",
   "id": "3d9c2e5c-ea7b-4d41-a0c8-ac630306fba2",
   "metadata": {},
   "source": [
    "### Formatting the results as indicated by Kaggle\n",
    "https://www.kaggle.com/c/bluebook-for-bulldozers/overview \n",
    "\n",
    "* Have a header: \"SalesID,SalePrice\"\n",
    "* Contain two columns\n",
    "    * **SalesID**: SalesID for the validation set in sorted order\n",
    "    * **SalePrice**: Your predicted price of the sale"
   ]
  },
  {
   "cell_type": "code",
   "execution_count": 72,
   "id": "252822c5-301b-48d3-8bbd-6ec73cb0445f",
   "metadata": {},
   "outputs": [
    {
     "data": {
      "text/html": [
       "<div>\n",
       "<style scoped>\n",
       "    .dataframe tbody tr th:only-of-type {\n",
       "        vertical-align: middle;\n",
       "    }\n",
       "\n",
       "    .dataframe tbody tr th {\n",
       "        vertical-align: top;\n",
       "    }\n",
       "\n",
       "    .dataframe thead th {\n",
       "        text-align: right;\n",
       "    }\n",
       "</style>\n",
       "<table border=\"1\" class=\"dataframe\">\n",
       "  <thead>\n",
       "    <tr style=\"text-align: right;\">\n",
       "      <th></th>\n",
       "      <th>SalesID</th>\n",
       "      <th>SalePrice</th>\n",
       "    </tr>\n",
       "  </thead>\n",
       "  <tbody>\n",
       "    <tr>\n",
       "      <th>0</th>\n",
       "      <td>1227829</td>\n",
       "      <td>17677.460468</td>\n",
       "    </tr>\n",
       "    <tr>\n",
       "      <th>1</th>\n",
       "      <td>1227844</td>\n",
       "      <td>16419.528447</td>\n",
       "    </tr>\n",
       "    <tr>\n",
       "      <th>2</th>\n",
       "      <td>1227847</td>\n",
       "      <td>47012.726779</td>\n",
       "    </tr>\n",
       "    <tr>\n",
       "      <th>3</th>\n",
       "      <td>1227848</td>\n",
       "      <td>67601.066637</td>\n",
       "    </tr>\n",
       "    <tr>\n",
       "      <th>4</th>\n",
       "      <td>1227863</td>\n",
       "      <td>57119.199468</td>\n",
       "    </tr>\n",
       "  </tbody>\n",
       "</table>\n",
       "</div>"
      ],
      "text/plain": [
       "   SalesID     SalePrice\n",
       "0  1227829  17677.460468\n",
       "1  1227844  16419.528447\n",
       "2  1227847  47012.726779\n",
       "3  1227848  67601.066637\n",
       "4  1227863  57119.199468"
      ]
     },
     "execution_count": 72,
     "metadata": {},
     "output_type": "execute_result"
    }
   ],
   "source": [
    "df_results = pd.DataFrame()\n",
    "df_results['SalesID'] = test_df.SalesID\n",
    "df_results['SalePrice'] = y_preds_test\n",
    "df_results.head()"
   ]
  },
  {
   "cell_type": "markdown",
   "id": "f547e0b8-e914-4ad5-a996-5b94d34fec19",
   "metadata": {},
   "source": [
    "### Save results as `.csv`"
   ]
  },
  {
   "cell_type": "code",
   "execution_count": 73,
   "id": "93ad1041-5335-4b56-acd6-73f0b8ae870b",
   "metadata": {},
   "outputs": [],
   "source": [
    "df_results.to_csv('./model_preds/bulldozers_price_predictions_3.csv', index = False)"
   ]
  },
  {
   "cell_type": "markdown",
   "id": "eaf04492-8df9-4fa6-aed8-ba4f766b7be1",
   "metadata": {},
   "source": [
    "### Persisting the model"
   ]
  },
  {
   "cell_type": "code",
   "execution_count": 74,
   "id": "1b578351-9dc9-41b8-8ff7-648106ba9737",
   "metadata": {},
   "outputs": [],
   "source": [
    "joblib.dump(rf_reg_model_2, './model_preds/rf_reg_bulldozers_price_prediction_model_best_2.joblib');"
   ]
  },
  {
   "cell_type": "markdown",
   "id": "d1c95b52-bedb-4262-a238-d6a6145fc464",
   "metadata": {},
   "source": [
    "### Feature Importance"
   ]
  },
  {
   "cell_type": "code",
   "execution_count": 75,
   "id": "e48144c3-3988-472b-b4d6-768cdc22a671",
   "metadata": {},
   "outputs": [
    {
     "data": {
      "image/png": "[encoded data removed]",
      "text/plain": [
       "<Figure size 640x480 with 1 Axes>"
      ]
     },
     "metadata": {},
     "output_type": "display_data"
    }
   ],
   "source": [
    "fig = plot_feature_importance(rf_reg_model_2, X_train, 20)"
   ]
  },
  {
   "cell_type": "markdown",
   "id": "10e9e936-387f-4c40-87bf-65d1ba7c3354",
   "metadata": {},
   "source": [
    "### Feature Selection using `PCA`\n",
    "The model would certain not live with a whopping **109 features**! To reduce the effect known as the ***curse of dimensionality*** I used **PCA** to generate **25 features** from the **109**. The result is a **drastic reduction in training time to under 3 minutes** (on my laptop) with a comparable RMSLE. There is always a trade-off in efficiency or whatever evaluation metrics because **PCA always involves some loss in information**."
   ]
  },
  {
   "cell_type": "code",
   "execution_count": 76,
   "id": "3b8c3adb-1fd2-4108-b245-de425f24da8a",
   "metadata": {},
   "outputs": [
    {
     "data": {
      "text/plain": [
       "((320900, 109), (80225, 109))"
      ]
     },
     "execution_count": 76,
     "metadata": {},
     "output_type": "execute_result"
    }
   ],
   "source": [
    "X_train.shape, X_val.shape"
   ]
  },
  {
   "cell_type": "code",
   "execution_count": 77,
   "id": "a3cc70eb-254b-4204-b17b-7cbe4ece5599",
   "metadata": {},
   "outputs": [],
   "source": [
    "pca = PCA(n_components = 25, svd_solver = 'full')\n",
    "pca.fit(X_train)\n",
    "X_train_pca = pca.transform(X_train)\n",
    "X_val_pca = pca.transform(X_val)\n",
    "X_valid_pca = pca.transform(valid_df)\n",
    "X_test_pca = pca.transform(test_df)"
   ]
  },
  {
   "cell_type": "code",
   "execution_count": 78,
   "id": "b06bc20d-c5ef-41bd-b1a2-84917dedc306",
   "metadata": {},
   "outputs": [
    {
     "name": "stdout",
     "output_type": "stream",
     "text": [
      "CPU times: total: 43min 31s\n",
      "Wall time: 8min 4s\n"
     ]
    }
   ],
   "source": [
    "%%time\n",
    "rf_reg_pca_2 = RandomForestRegressor(n_estimators = 90,\n",
    "                                     min_samples_leaf = 5,\n",
    "                                     min_samples_split = 10,\n",
    "                                     max_features = 0.5,\n",
    "                                     n_jobs = -1\n",
    "                                    )\n",
    "\n",
    "rf_reg_pca_2.fit(X_train_pca, y_train);"
   ]
  },
  {
   "cell_type": "code",
   "execution_count": 80,
   "id": "ef7a3921-cc6c-490c-9fe3-91f130cf650b",
   "metadata": {},
   "outputs": [
    {
     "data": {
      "text/plain": [
       "{'Training MAE': 3685.3009325729236,\n",
       " 'Validation MAE': 5918.112257678947,\n",
       " 'Training RMSLE': 0.18043020404882076,\n",
       " 'Validation RMSLE': 0.2723055758515113,\n",
       " 'Training R^2': 0.9336144281442814,\n",
       " 'Validation R^2': 0.8405386431759303}"
      ]
     },
     "execution_count": 80,
     "metadata": {},
     "output_type": "execute_result"
    }
   ],
   "source": [
    "scores_pca = regression_scores_from_model(rf_reg_pca_2, X_train_pca, y_train, X_val_pca, y_val)\n",
    "scores_pca"
   ]
  },
  {
   "cell_type": "markdown",
   "id": "e528c234-3462-40c5-ad54-d99cddd38a87",
   "metadata": {},
   "source": [
    "### Prediction using the test dataset"
   ]
  },
  {
   "cell_type": "code",
   "execution_count": 81,
   "id": "f70d6e5a-9f0f-44d3-b0d1-db98168c06bf",
   "metadata": {},
   "outputs": [
    {
     "data": {
      "text/plain": [
       "array([14430.56221973, 16137.60934359, 33787.39190979, ...,\n",
       "       42444.19259399, 52210.23470402, 53505.60938698])"
      ]
     },
     "execution_count": 81,
     "metadata": {},
     "output_type": "execute_result"
    }
   ],
   "source": [
    "y_preds_test_pca = rf_reg_pca_2.predict(X_test_pca)\n",
    "y_preds_test_pca"
   ]
  },
  {
   "cell_type": "markdown",
   "id": "e8fcb886-42fe-48a3-922c-f20c2def2052",
   "metadata": {},
   "source": [
    "### Presenting the results as required by Kaggle"
   ]
  },
  {
   "cell_type": "code",
   "execution_count": 82,
   "id": "3a7fafe9-09d4-4e6f-ab83-4790ae680eb4",
   "metadata": {},
   "outputs": [
    {
     "data": {
      "text/html": [
       "<div>\n",
       "<style scoped>\n",
       "    .dataframe tbody tr th:only-of-type {\n",
       "        vertical-align: middle;\n",
       "    }\n",
       "\n",
       "    .dataframe tbody tr th {\n",
       "        vertical-align: top;\n",
       "    }\n",
       "\n",
       "    .dataframe thead th {\n",
       "        text-align: right;\n",
       "    }\n",
       "</style>\n",
       "<table border=\"1\" class=\"dataframe\">\n",
       "  <thead>\n",
       "    <tr style=\"text-align: right;\">\n",
       "      <th></th>\n",
       "      <th>SalesID</th>\n",
       "      <th>SalePrice</th>\n",
       "    </tr>\n",
       "  </thead>\n",
       "  <tbody>\n",
       "    <tr>\n",
       "      <th>0</th>\n",
       "      <td>1227829</td>\n",
       "      <td>14430.562220</td>\n",
       "    </tr>\n",
       "    <tr>\n",
       "      <th>1</th>\n",
       "      <td>1227844</td>\n",
       "      <td>16137.609344</td>\n",
       "    </tr>\n",
       "    <tr>\n",
       "      <th>2</th>\n",
       "      <td>1227847</td>\n",
       "      <td>33787.391910</td>\n",
       "    </tr>\n",
       "    <tr>\n",
       "      <th>3</th>\n",
       "      <td>1227848</td>\n",
       "      <td>29296.342159</td>\n",
       "    </tr>\n",
       "    <tr>\n",
       "      <th>4</th>\n",
       "      <td>1227863</td>\n",
       "      <td>29349.780947</td>\n",
       "    </tr>\n",
       "  </tbody>\n",
       "</table>\n",
       "</div>"
      ],
      "text/plain": [
       "   SalesID     SalePrice\n",
       "0  1227829  14430.562220\n",
       "1  1227844  16137.609344\n",
       "2  1227847  33787.391910\n",
       "3  1227848  29296.342159\n",
       "4  1227863  29349.780947"
      ]
     },
     "execution_count": 82,
     "metadata": {},
     "output_type": "execute_result"
    }
   ],
   "source": [
    "df_results = pd.DataFrame()\n",
    "df_results['SalesID'] = test_df.SalesID\n",
    "df_results['SalePrice'] = y_preds_test_pca\n",
    "df_results.head()"
   ]
  },
  {
   "cell_type": "code",
   "execution_count": 83,
   "id": "a18b87fd-aeba-451d-9701-dad8a5183c7b",
   "metadata": {},
   "outputs": [],
   "source": [
    "df_results.to_csv('./model_preds/bulldozers_price_predictions_pca_2.csv', index = False)"
   ]
  },
  {
   "cell_type": "code",
   "execution_count": 84,
   "id": "e069d755-149e-44a6-90c8-f504a509282c",
   "metadata": {},
   "outputs": [],
   "source": [
    "joblib.dump(rf_reg_pca_2, './model_preds/rf_reg_bulldozers_price_prediction_model_pca_2.joblib');"
   ]
  },
  {
   "cell_type": "code",
   "execution_count": null,
   "id": "11519eea-4dd3-4ae2-beac-af6edbcda292",
   "metadata": {},
   "outputs": [],
   "source": []
  }
 ],
 "metadata": {
  "kernelspec": {
   "display_name": "Python 3 (ipykernel)",
   "language": "python",
   "name": "python3"
  },
  "language_info": {
   "codemirror_mode": {
    "name": "ipython",
    "version": 3
   },
   "file_extension": ".py",
   "mimetype": "text/x-python",
   "name": "python",
   "nbconvert_exporter": "python",
   "pygments_lexer": "ipython3",
   "version": "3.9.17"
  }
 },
 "nbformat": 4,
 "nbformat_minor": 5
}
